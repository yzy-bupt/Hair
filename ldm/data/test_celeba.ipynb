{
 "cells": [
  {
   "cell_type": "code",
   "execution_count": 1,
   "metadata": {},
   "outputs": [
    {
     "name": "stderr",
     "output_type": "stream",
     "text": [
      "/tmp/ipykernel_2285453/1269912454.py:4: DeprecationWarning: the imp module is deprecated in favour of importlib; see the module's documentation for alternative uses\n",
      "  import imp\n",
      "/sda/home/qianshengsheng/anaconda3/envs/control/lib/python3.8/site-packages/tqdm/auto.py:21: TqdmWarning: IProgress not found. Please update jupyter and ipywidgets. See https://ipywidgets.readthedocs.io/en/stable/user_install.html\n",
      "  from .autonotebook import tqdm as notebook_tqdm\n"
     ]
    }
   ],
   "source": [
    "from __future__ import absolute_import\n",
    "from __future__ import division\n",
    "from __future__ import print_function\n",
    "import imp\n",
    "\n",
    "import os\n",
    "from io import BytesIO\n",
    "import json\n",
    "import logging\n",
    "import base64\n",
    "from sys import prefix\n",
    "import threading\n",
    "import random\n",
    "from turtle import left, right\n",
    "import numpy as np\n",
    "from typing import Callable, List, Tuple, Union\n",
    "from PIL import Image,ImageDraw\n",
    "import torch.utils.data as data\n",
    "import json\n",
    "import time\n",
    "import cv2\n",
    "import torch\n",
    "import torchvision\n",
    "import torch.nn.functional as F\n",
    "import torchvision.transforms as T\n",
    "import copy\n",
    "import math\n",
    "from functools import partial\n",
    "import albumentations as A\n",
    "import bezier"
   ]
  },
  {
   "cell_type": "code",
   "execution_count": null,
   "metadata": {},
   "outputs": [],
   "source": [
    "mask_img=np.zeros((H,W))\n",
    "mask_img[0:4,0:5]=1\n",
    "mask_img=Image.fromarray(mask_img)\n",
    "mask_tensor=1-get_tensor(normalize=False, toTensor=True)(mask_img)"
   ]
  }
 ],
 "metadata": {
  "kernelspec": {
   "display_name": "control",
   "language": "python",
   "name": "python3"
  },
  "language_info": {
   "codemirror_mode": {
    "name": "ipython",
    "version": 3
   },
   "file_extension": ".py",
   "mimetype": "text/x-python",
   "name": "python",
   "nbconvert_exporter": "python",
   "pygments_lexer": "ipython3",
   "version": "3.8.5"
  },
  "orig_nbformat": 4
 },
 "nbformat": 4,
 "nbformat_minor": 2
}
